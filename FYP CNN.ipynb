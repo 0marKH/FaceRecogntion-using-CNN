{
 "cells": [
  {
   "cell_type": "code",
   "execution_count": 1,
   "id": "211610c9",
   "metadata": {},
   "outputs": [],
   "source": [
    "from keras.models import Sequential\n",
    "from keras.layers import Convolution2D\n",
    "from keras.layers import MaxPool2D\n",
    "from keras.layers import Flatten\n",
    "from keras.layers import Dense"
   ]
  },
  {
   "cell_type": "code",
   "execution_count": 2,
   "id": "0edc41cd",
   "metadata": {},
   "outputs": [
    {
     "name": "stdout",
     "output_type": "stream",
     "text": [
      "Found 365 images belonging to 22 classes.\n",
      "Found 365 images belonging to 22 classes.\n"
     ]
    },
    {
     "data": {
      "text/plain": [
       "{'face1': 0,\n",
       " 'face10': 1,\n",
       " 'face11': 2,\n",
       " 'face12': 3,\n",
       " 'face13': 4,\n",
       " 'face14': 5,\n",
       " 'face15': 6,\n",
       " 'face16': 7,\n",
       " 'face17': 8,\n",
       " 'face18': 9,\n",
       " 'face19': 10,\n",
       " 'face2': 11,\n",
       " 'face20': 12,\n",
       " 'face3': 13,\n",
       " 'face4': 14,\n",
       " 'face5': 15,\n",
       " 'face6': 16,\n",
       " 'face7': 17,\n",
       " 'face8': 18,\n",
       " 'face9': 19,\n",
       " 'mo': 20,\n",
       " 'omar': 21}"
      ]
     },
     "execution_count": 2,
     "metadata": {},
     "output_type": "execute_result"
    }
   ],
   "source": [
    "TrainingImagePath='D:\\omark\\Desktop\\دراسة\\مشروع التخرج\\Face-Images\\Face Images\\Final Training Images'\n",
    " \n",
    "from keras.preprocessing.image import ImageDataGenerator\n",
    "\n",
    "train_datagen = ImageDataGenerator(\n",
    "        shear_range=0.1,\n",
    "        zoom_range=0.1,\n",
    "        horizontal_flip=True)\n",
    " \n",
    "# Defining pre-processing transformations on raw images of testing data\n",
    "# No transformations are done on the testing images\n",
    "test_datagen = ImageDataGenerator()\n",
    " \n",
    "# Generating the Training Data\n",
    "training_set = train_datagen.flow_from_directory(\n",
    "        TrainingImagePath,\n",
    "        target_size=(64, 64),\n",
    "        batch_size=32,\n",
    "        class_mode='categorical')\n",
    " \n",
    " \n",
    "# Generating the Testing Data\n",
    "test_set = test_datagen.flow_from_directory(\n",
    "        TrainingImagePath,\n",
    "        target_size=(64, 64),\n",
    "        batch_size=32,\n",
    "        class_mode='categorical')\n",
    " \n",
    "# Printing class labels for each face\n",
    "test_set.class_indices"
   ]
  },
  {
   "cell_type": "code",
   "execution_count": 3,
   "id": "cde9610e",
   "metadata": {},
   "outputs": [
    {
     "name": "stdout",
     "output_type": "stream",
     "text": [
      "Mapping of Face and its ID {0: 'face1', 1: 'face10', 2: 'face11', 3: 'face12', 4: 'face13', 5: 'face14', 6: 'face15', 7: 'face16', 8: 'face17', 9: 'face18', 10: 'face19', 11: 'face2', 12: 'face20', 13: 'face3', 14: 'face4', 15: 'face5', 16: 'face6', 17: 'face7', 18: 'face8', 19: 'face9', 20: 'mo', 21: 'omar'}\n",
      "\n",
      " The Number of output neurons:  22\n"
     ]
    }
   ],
   "source": [
    "TrainClasses=training_set.class_indices\n",
    " \n",
    "# Storing the face and the numeric tag for future reference\n",
    "ResultMap={}\n",
    "for faceValue,faceName in zip(TrainClasses.values(),TrainClasses.keys()):\n",
    "    ResultMap[faceValue]=faceName\n",
    " \n",
    "# Saving the face map for future reference\n",
    "import pickle\n",
    "with open(\"ResultsMap.pkl\", 'wb') as fileWriteStream:\n",
    "    pickle.dump(ResultMap, fileWriteStream)\n",
    " \n",
    "# This mapping will help to get the corresponding face name for it\n",
    "print(\"Mapping of Face and its ID\",ResultMap)\n",
    " \n",
    "# The number of neurons for the output layer is equal to the number of faces\n",
    "OutputNeurons=len(ResultMap)\n",
    "print('\\n The Number of output neurons: ', OutputNeurons)"
   ]
  },
  {
   "cell_type": "code",
   "execution_count": 4,
   "id": "fe4343df",
   "metadata": {
    "scrolled": true
   },
   "outputs": [
    {
     "name": "stdout",
     "output_type": "stream",
     "text": [
      "Epoch 1/18\n",
      "12/12 [==============================] - 8s 684ms/step - loss: 53.1592 - accuracy: 0.0575 - val_loss: 2.9378 - val_accuracy: 0.1452\n",
      "Epoch 2/18\n",
      "12/12 [==============================] - 5s 405ms/step - loss: 2.8754 - accuracy: 0.1726 - val_loss: 2.6923 - val_accuracy: 0.1836\n",
      "Epoch 3/18\n",
      "12/12 [==============================] - 5s 442ms/step - loss: 2.3100 - accuracy: 0.3178 - val_loss: 1.8066 - val_accuracy: 0.5233\n",
      "Epoch 4/18\n",
      "12/12 [==============================] - 5s 396ms/step - loss: 1.5880 - accuracy: 0.5123 - val_loss: 1.1515 - val_accuracy: 0.6767\n",
      "Epoch 5/18\n",
      "12/12 [==============================] - 5s 452ms/step - loss: 1.1670 - accuracy: 0.6767 - val_loss: 0.9947 - val_accuracy: 0.7589\n",
      "Epoch 6/18\n",
      "12/12 [==============================] - 5s 452ms/step - loss: 0.8889 - accuracy: 0.7616 - val_loss: 0.6005 - val_accuracy: 0.8055\n",
      "Epoch 7/18\n",
      "12/12 [==============================] - 6s 469ms/step - loss: 0.6370 - accuracy: 0.8082 - val_loss: 0.3474 - val_accuracy: 0.9260\n",
      "Epoch 8/18\n",
      "12/12 [==============================] - 6s 498ms/step - loss: 0.4986 - accuracy: 0.8658 - val_loss: 0.3208 - val_accuracy: 0.9096\n",
      "Epoch 9/18\n",
      "12/12 [==============================] - 6s 501ms/step - loss: 0.4639 - accuracy: 0.8740 - val_loss: 0.1706 - val_accuracy: 0.9479\n",
      "Epoch 10/18\n",
      "12/12 [==============================] - 6s 510ms/step - loss: 0.1961 - accuracy: 0.9315 - val_loss: 0.1085 - val_accuracy: 0.9726\n",
      "Epoch 11/18\n",
      "12/12 [==============================] - 6s 496ms/step - loss: 0.1919 - accuracy: 0.9397 - val_loss: 0.0685 - val_accuracy: 0.9781\n",
      "Epoch 12/18\n",
      "12/12 [==============================] - 5s 457ms/step - loss: 0.1253 - accuracy: 0.9644 - val_loss: 0.0304 - val_accuracy: 0.9945\n",
      "Epoch 13/18\n",
      "12/12 [==============================] - 5s 441ms/step - loss: 0.0970 - accuracy: 0.9753 - val_loss: 0.0382 - val_accuracy: 0.9808\n",
      "Epoch 14/18\n",
      "12/12 [==============================] - 6s 502ms/step - loss: 0.1091 - accuracy: 0.9699 - val_loss: 0.0818 - val_accuracy: 0.9753\n",
      "Epoch 15/18\n",
      "12/12 [==============================] - 7s 578ms/step - loss: 0.2083 - accuracy: 0.9452 - val_loss: 0.0848 - val_accuracy: 0.9863\n",
      "Epoch 16/18\n",
      "12/12 [==============================] - 7s 555ms/step - loss: 0.1169 - accuracy: 0.9726 - val_loss: 0.0497 - val_accuracy: 0.9918\n",
      "Epoch 17/18\n",
      "12/12 [==============================] - 5s 426ms/step - loss: 0.0752 - accuracy: 0.9753 - val_loss: 0.0386 - val_accuracy: 0.9918\n",
      "Epoch 18/18\n",
      "12/12 [==============================] - 5s 437ms/step - loss: 0.1176 - accuracy: 0.9671 - val_loss: 0.0892 - val_accuracy: 0.9781\n",
      "###### Total Time Taken:  2 Minutes ######\n",
      "Model: \"sequential\"\n",
      "_________________________________________________________________\n",
      "Layer (type)                 Output Shape              Param #   \n",
      "=================================================================\n",
      "conv2d (Conv2D)              (None, 60, 60, 32)        2432      \n",
      "_________________________________________________________________\n",
      "max_pooling2d (MaxPooling2D) (None, 30, 30, 32)        0         \n",
      "_________________________________________________________________\n",
      "conv2d_1 (Conv2D)            (None, 26, 26, 64)        51264     \n",
      "_________________________________________________________________\n",
      "max_pooling2d_1 (MaxPooling2 (None, 13, 13, 64)        0         \n",
      "_________________________________________________________________\n",
      "flatten (Flatten)            (None, 10816)             0         \n",
      "_________________________________________________________________\n",
      "dense (Dense)                (None, 64)                692288    \n",
      "_________________________________________________________________\n",
      "dense_1 (Dense)              (None, 22)                1430      \n",
      "=================================================================\n",
      "Total params: 747,414\n",
      "Trainable params: 747,414\n",
      "Non-trainable params: 0\n",
      "_________________________________________________________________\n"
     ]
    }
   ],
   "source": [
    "classifier= Sequential()\n",
    "\n",
    "classifier.add(Convolution2D(32, kernel_size=(5, 5), strides=(1, 1), input_shape=(64,64,3), activation='relu'))\n",
    " \n",
    "'''# STEP--2 MAX Pooling'''\n",
    "classifier.add(MaxPool2D(pool_size=(2,2)))\n",
    " \n",
    "'''############## ADDITIONAL LAYER of CONVOLUTION for better accuracy #################'''\n",
    "classifier.add(Convolution2D(64, kernel_size=(5, 5), strides=(1, 1), activation='relu'))\n",
    " \n",
    "classifier.add(MaxPool2D(pool_size=(2,2)))\n",
    "\n",
    "#classifier.add(Convolution2D(128, kernel_size=(5, 5), strides=(1, 1), activation='relu'))\n",
    " \n",
    "#classifier.add(MaxPool2D(pool_size=(2,2)))\n",
    " \n",
    "'''# STEP--3 FLattening'''\n",
    "classifier.add(Flatten())\n",
    " \n",
    "'''# STEP--4 Fully Connected Neural Network'''\n",
    "classifier.add(Dense(64, activation='relu'))\n",
    " \n",
    "classifier.add(Dense(OutputNeurons, activation='softmax'))\n",
    " \n",
    "'''# Compiling the CNN'''\n",
    "#classifier.compile(loss='binary_crossentropy', optimizer='adam', metrics=['accuracy'])\n",
    "classifier.compile(loss='categorical_crossentropy', optimizer = 'adam', metrics=[\"accuracy\"])\n",
    "\n",
    "\n",
    "\n",
    " \n",
    "###########################################################\n",
    "import time\n",
    "# Measuring the time taken by the model to train\n",
    "StartTime=time.time()\n",
    "\n",
    "# Starting the model training\n",
    "history = classifier.fit(\n",
    "                    training_set,\n",
    "                    steps_per_epoch=len(training_set),\n",
    "                    epochs=18,\n",
    "                    validation_data=test_set,\n",
    "                    validation_steps=len(test_set)\n",
    ")\n",
    " \n",
    "EndTime=time.time()\n",
    "print(\"###### Total Time Taken: \", round((EndTime-StartTime)/60), 'Minutes ######')\n",
    "\n",
    "\n",
    "classifier.summary()\n"
   ]
  },
  {
   "cell_type": "code",
   "execution_count": 5,
   "id": "08fbcaba",
   "metadata": {},
   "outputs": [
    {
     "name": "stdout",
     "output_type": "stream",
     "text": [
      "dict_keys(['loss', 'accuracy', 'val_loss', 'val_accuracy'])\n"
     ]
    },
    {
     "data": {
      "image/png": "[encoded data removed]",
      "text/plain": [
       "<Figure size 720x360 with 1 Axes>"
      ]
     },
     "metadata": {
      "needs_background": "light"
     },
     "output_type": "display_data"
    }
   ],
   "source": [
    "import matplotlib.pyplot as plt\n",
    "from matplotlib import figure\n",
    "import numpy\n",
    "\n",
    "\n",
    "\n",
    "print(history.history.keys())\n",
    "plt.figure(figsize=(10,5))\n",
    "plt.plot(history.history['accuracy'])\n",
    "plt.plot(history.history['val_accuracy'])\n",
    "plt.title('model accuracy')\n",
    "plt.ylabel('accuracy')\n",
    "plt.xlabel('epoch')\n",
    "plt.legend(['train', 'test'], loc='upper left')\n",
    "plt.grid(color='k', linewidth=.5, linestyle=':')\n",
    "\n",
    "plt.show()"
   ]
  },
  {
   "cell_type": "code",
   "execution_count": 6,
   "id": "8830d31e",
   "metadata": {},
   "outputs": [
    {
     "data": {
      "image/png": "[encoded data removed]",
      "text/plain": [
       "<Figure size 720x360 with 1 Axes>"
      ]
     },
     "metadata": {
      "needs_background": "light"
     },
     "output_type": "display_data"
    }
   ],
   "source": [
    "plt.figure(figsize=(10,5))\n",
    "plt.plot(history.history['loss'])\n",
    "plt.plot(history.history['val_loss'])\n",
    "plt.title('model loss')\n",
    "plt.ylabel('loss')\n",
    "plt.xlabel('epoch')\n",
    "plt.legend(['train', 'test'], loc='upper left')\n",
    "plt.grid(color='k', linewidth=.5, linestyle=':')\n",
    "\n",
    "plt.show()"
   ]
  },
  {
   "cell_type": "code",
   "execution_count": 7,
   "id": "2a0ffc84",
   "metadata": {},
   "outputs": [
    {
     "ename": "error",
     "evalue": "OpenCV(4.0.1) C:\\ci\\opencv-suite_1573470242804\\work\\modules\\objdetect\\src\\cascadedetect.cpp:1658: error: (-215:Assertion failed) !empty() in function 'cv::CascadeClassifier::detectMultiScale'\n",
     "output_type": "error",
     "traceback": [
      "\u001b[1;31m---------------------------------------------------------------------------\u001b[0m",
      "\u001b[1;31merror\u001b[0m                                     Traceback (most recent call last)",
      "Input \u001b[1;32mIn [7]\u001b[0m, in \u001b[0;36m<cell line: 10>\u001b[1;34m()\u001b[0m\n\u001b[0;32m     12\u001b[0m gray \u001b[38;5;241m=\u001b[39m cv2\u001b[38;5;241m.\u001b[39mcvtColor(img, cv2\u001b[38;5;241m.\u001b[39mCOLOR_RGB2GRAY)\n\u001b[0;32m     13\u001b[0m \u001b[38;5;66;03m# Detect the faces\u001b[39;00m\n\u001b[1;32m---> 14\u001b[0m faces \u001b[38;5;241m=\u001b[39m \u001b[43mface_cascade\u001b[49m\u001b[38;5;241;43m.\u001b[39;49m\u001b[43mdetectMultiScale\u001b[49m\u001b[43m(\u001b[49m\u001b[43mgray\u001b[49m\u001b[43m \u001b[49m\u001b[43m,\u001b[49m\u001b[43m \u001b[49m\u001b[38;5;241;43m1.1\u001b[39;49m\u001b[43m,\u001b[49m\u001b[43m \u001b[49m\u001b[38;5;241;43m4\u001b[39;49m\u001b[43m)\u001b[49m\n\u001b[0;32m     16\u001b[0m test_image\u001b[38;5;241m=\u001b[39mimage\u001b[38;5;241m.\u001b[39mload_img(faces,target_size\u001b[38;5;241m=\u001b[39m(\u001b[38;5;241m64\u001b[39m, \u001b[38;5;241m64\u001b[39m))\n\u001b[0;32m     17\u001b[0m test_image\u001b[38;5;241m=\u001b[39mimage\u001b[38;5;241m.\u001b[39mimg_to_array(test_image)\n",
      "\u001b[1;31merror\u001b[0m: OpenCV(4.0.1) C:\\ci\\opencv-suite_1573470242804\\work\\modules\\objdetect\\src\\cascadedetect.cpp:1658: error: (-215:Assertion failed) !empty() in function 'cv::CascadeClassifier::detectMultiScale'\n"
     ]
    }
   ],
   "source": [
    "import numpy as np\n",
    "from keras.preprocessing import image\n",
    "import cv2\n",
    "\n",
    "face_cascade = cv2.CascadeClassifier('haarcascade_frontalface_default.xml')\n",
    "cap = cv2.VideoCapture(0)\n",
    "while True:\n",
    "    \n",
    "    # Read the frame\n",
    "    __, img = cap.read()\n",
    "    # Convert to grayscale\n",
    "    gray = cv2.cvtColor(img, cv2.COLOR_RGB2GRAY)\n",
    "    # Detect the faces\n",
    "    faces = face_cascade.detectMultiScale(gray , 1.1, 4)\n",
    "    \n",
    "    test_image=image.load_img(faces,target_size=(64, 64))\n",
    "    test_image=image.img_to_array(test_image)\n",
    "    \n",
    "    test_image=np.expand_dims(test_image,axis=0)\n",
    " \n",
    "    result=classifier.predict(test_image,verbose=0)\n",
    "    # Draw the rectangle around each face\n",
    "    for (x, y, w, h) in faces:\n",
    "        cv2.rectangle(img, (x, y), (x+w, y+h), (255, 0, 0), 2)\n",
    "        cv2.putText(img,ResultMap[np.argmax(result)],(x, y - 10), cv2.FONT_HERSHEY_DUPLEX, 1, (0, 0, 200), 2)\n",
    "                                  # Display\n",
    "    cv2.imshow('img', img)\n",
    "    # Stop if escape key is pressed\n",
    "    k = cv2.waitKey(30) & 0xff\n",
    "    if k==27:\n",
    "        break\n",
    "# Release the VideoCapture object\n",
    "cap.release()\n",
    "\n",
    "#print(training_set.class_indices)\n",
    " \n",
    "print('####'*10)\n",
    "print('Prediction is: ',ResultMap[np.argmax(result)])"
   ]
  },
  {
   "cell_type": "code",
   "execution_count": 10,
   "id": "d6fd87fd",
   "metadata": {},
   "outputs": [
    {
     "name": "stdout",
     "output_type": "stream",
     "text": [
      "########################################\n",
      "Prediction is:  omar\n"
     ]
    }
   ],
   "source": [
    "import numpy as np\n",
    "from keras.preprocessing import image\n",
    " \n",
    "ImagePath=r'D:\\omark\\Desktop\\دراسة\\مشروع التخرج\\Face-Images\\Face Images\\Final Testing Images\\Omar1\\b.jpeg'\n",
    "test_image=image.load_img(ImagePath,target_size=(64, 64))\n",
    "test_image=image.img_to_array(test_image)\n",
    " \n",
    "test_image=np.expand_dims(test_image,axis=0)\n",
    " \n",
    "result=classifier.predict(test_image,verbose=0)\n",
    "#print(training_set.class_indices)\n",
    " \n",
    "print('####'*10)\n",
    "print('Prediction is: ',ResultMap[np.argmax(result)])"
   ]
  },
  {
   "cell_type": "code",
   "execution_count": 19,
   "id": "dea8bfaa",
   "metadata": {},
   "outputs": [
    {
     "name": "stdout",
     "output_type": "stream",
     "text": [
      "Camera On\n"
     ]
    },
    {
     "ename": "error",
     "evalue": "OpenCV(4.0.1) C:\\ci\\opencv-suite_1573470242804\\work\\modules\\objdetect\\src\\cascadedetect.cpp:1658: error: (-215:Assertion failed) !empty() in function 'cv::CascadeClassifier::detectMultiScale'\n",
     "output_type": "error",
     "traceback": [
      "\u001b[1;31m---------------------------------------------------------------------------\u001b[0m",
      "\u001b[1;31merror\u001b[0m                                     Traceback (most recent call last)",
      "Input \u001b[1;32mIn [19]\u001b[0m, in \u001b[0;36m<cell line: 17>\u001b[1;34m()\u001b[0m\n\u001b[0;32m     20\u001b[0m gray \u001b[38;5;241m=\u001b[39m cv2\u001b[38;5;241m.\u001b[39mcvtColor(frame, cv2\u001b[38;5;241m.\u001b[39mCOLOR_BGR2GRAY)\n\u001b[0;32m     22\u001b[0m \u001b[38;5;66;03m# Get location of the faces in term of position\u001b[39;00m\n\u001b[0;32m     23\u001b[0m \u001b[38;5;66;03m# Return a rectangle (x_pos, y_pos, width, height)\u001b[39;00m\n\u001b[1;32m---> 24\u001b[0m faces \u001b[38;5;241m=\u001b[39m \u001b[43mface_cascade\u001b[49m\u001b[38;5;241;43m.\u001b[39;49m\u001b[43mdetectMultiScale\u001b[49m\u001b[43m(\u001b[49m\u001b[43mgray\u001b[49m\u001b[43m,\u001b[49m\u001b[43m \u001b[49m\u001b[38;5;241;43m1.2\u001b[39;49m\u001b[43m,\u001b[49m\u001b[43m \u001b[49m\u001b[38;5;241;43m5\u001b[39;49m\u001b[43m,\u001b[49m\u001b[43m \u001b[49m\u001b[43mminSize\u001b[49m\u001b[38;5;241;43m=\u001b[39;49m\u001b[43m(\u001b[49m\u001b[38;5;241;43m30\u001b[39;49m\u001b[43m,\u001b[49m\u001b[43m \u001b[49m\u001b[38;5;241;43m30\u001b[39;49m\u001b[43m)\u001b[49m\u001b[43m,\u001b[49m\u001b[43m \u001b[49m\u001b[43mflags\u001b[49m\u001b[38;5;241;43m=\u001b[39;49m\u001b[43mcv2\u001b[49m\u001b[38;5;241;43m.\u001b[39;49m\u001b[43mCASCADE_SCALE_IMAGE\u001b[49m\u001b[43m)\u001b[49m \n\u001b[0;32m     26\u001b[0m \u001b[38;5;66;03m# Detect faces\u001b[39;00m\n\u001b[0;32m     27\u001b[0m \u001b[38;5;28;01mfor\u001b[39;00m (x, y, w, h) \u001b[38;5;129;01min\u001b[39;00m faces:\n\u001b[0;32m     28\u001b[0m    \u001b[38;5;66;03m# Draw rectangle in the face\u001b[39;00m\n",
      "\u001b[1;31merror\u001b[0m: OpenCV(4.0.1) C:\\ci\\opencv-suite_1573470242804\\work\\modules\\objdetect\\src\\cascadedetect.cpp:1658: error: (-215:Assertion failed) !empty() in function 'cv::CascadeClassifier::detectMultiScale'\n"
     ]
    }
   ],
   "source": [
    "# Import libraries\n",
    "import cv2\n",
    "import numpy as np\n",
    "\n",
    "# Video capture using WebCam\n",
    "cap = cv2.VideoCapture(0)\n",
    "        \n",
    "# print a feedback\n",
    "print('Camera On')\n",
    "\n",
    "# Load face detection classifier\n",
    "# Load face detection classifier ~ Path to face & eye cascade\n",
    "face_cascade = cv2.CascadeClassifier(\"haarcascade_frontalface_default.xml\")  # Pre train model\n",
    "\n",
    "while True:\n",
    "  # Original frame ~ Video frame from camera\n",
    "  ret, frame = cap.read()  # Return value (true or false) if the capture work, video frame\n",
    "  \n",
    "  # Convert original frame to gray\n",
    "  gray = cv2.cvtColor(frame, cv2.COLOR_BGR2GRAY)\n",
    "  \n",
    "  # Get location of the faces in term of position\n",
    "  # Return a rectangle (x_pos, y_pos, width, height)\n",
    "  faces = face_cascade.detectMultiScale(gray, 1.2, 5, minSize=(30, 30), flags=cv2.CASCADE_SCALE_IMAGE) \n",
    "  \n",
    "  # Detect faces\n",
    "  for (x, y, w, h) in faces:\n",
    "     # Draw rectangle in the face\n",
    "     cv2.rectangle(frame, (x, y), (x+w, y+h), (255, 53, 18), 2)  # Rect for the face\n",
    "     \n",
    "  # Load video frame\n",
    "  cv2.imshow('Video Frame', frame)\n",
    "  \n",
    "  # Wait 1 millisecond second until q key is press\n",
    "  # Get a frame every 1 millisecond\n",
    "  if cv2.waitKey(1) == ord('q'):\n",
    "     # Print feedback\n",
    "     print('Camera Off')\n",
    "     break\n",
    "     \n",
    "# Close windows\n",
    "cap.release()  # Realise the webcam\n",
    "cv2.destroyAllWindows()  # Destroy all the windows"
   ]
  },
  {
   "cell_type": "code",
   "execution_count": null,
   "id": "d1e4d2b7",
   "metadata": {},
   "outputs": [],
   "source": []
  }
 ],
 "metadata": {
  "kernelspec": {
   "display_name": "Python 3 (ipykernel)",
   "language": "python",
   "name": "python3"
  },
  "language_info": {
   "codemirror_mode": {
    "name": "ipython",
    "version": 3
   },
   "file_extension": ".py",
   "mimetype": "text/x-python",
   "name": "python",
   "nbconvert_exporter": "python",
   "pygments_lexer": "ipython3",
   "version": "3.9.7"
  }
 },
 "nbformat": 4,
 "nbformat_minor": 5
}
